{
 "cells": [
  {
   "cell_type": "code",
   "execution_count": 1,
   "id": "70afa938-2902-4820-b8e4-2a37344f29f8",
   "metadata": {},
   "outputs": [
    {
     "name": "stdout",
     "output_type": "stream",
     "text": [
      "01:00:21\n",
      "good morning\n"
     ]
    }
   ],
   "source": [
    "import time\n",
    "timestamp = time.strftime('%H:%M:%S')\n",
    "print(timestamp)\n",
    "hour = int(time.strftime('%H'))\n",
    "\n",
    "min = int(time.strftime('%M'))\n",
    "\n",
    "sec = int(time.strftime('%S'))\n",
    "currenttime=hour*min*sec\n",
    "\n",
    "if (currenttime>=0 and currenttime<43200):\n",
    "    print(\"good morning\")\n",
    "elif(currenttime<=43200 and currenttime<61200):\n",
    "    print(\"good afternoon\")\n",
    "elif(currenttime<=61200 and currenttime<86400):\n",
    "    print(\"goodnight\")\n",
    "else:\n",
    "    print(\"idk\")\n",
    "\n",
    "# goodmorning- fro midnight to noon\n",
    "# good afternoon - from noon to 5 of the evening\n",
    "# good night- from evening to midnight\n"
   ]
  },
  {
   "cell_type": "code",
   "execution_count": null,
   "id": "eca0711b-88be-4e52-b43c-ff68bdd74562",
   "metadata": {},
   "outputs": [],
   "source": []
  }
 ],
 "metadata": {
  "kernelspec": {
   "display_name": "Python 3 (ipykernel)",
   "language": "python",
   "name": "python3"
  },
  "language_info": {
   "codemirror_mode": {
    "name": "ipython",
    "version": 3
   },
   "file_extension": ".py",
   "mimetype": "text/x-python",
   "name": "python",
   "nbconvert_exporter": "python",
   "pygments_lexer": "ipython3",
   "version": "3.11.4"
  }
 },
 "nbformat": 4,
 "nbformat_minor": 5
}
